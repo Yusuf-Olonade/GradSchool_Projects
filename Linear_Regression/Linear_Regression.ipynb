{
  "nbformat": 4,
  "nbformat_minor": 0,
  "metadata": {
    "colab": {
      "provenance": []
    },
    "kernelspec": {
      "display_name": "Python 3",
      "language": "python",
      "name": "python3"
    },
    "language_info": {
      "codemirror_mode": {
        "name": "ipython",
        "version": 3
      },
      "file_extension": ".py",
      "mimetype": "text/x-python",
      "name": "python",
      "nbconvert_exporter": "python",
      "pygments_lexer": "ipython3",
      "version": "3.7.4"
    }
  },
  "cells": [
    {
      "cell_type": "markdown",
      "source": [
        "## **Linear Regression from Scratch Using Direct Solution and Gradient Descent** "
      ],
      "metadata": {
        "id": "fI3kiAHWX25H"
      }
    },
    {
      "cell_type": "markdown",
      "source": [
        "### **Import modules and libraries**"
      ],
      "metadata": {
        "id": "yK5Y48niYBVw"
      }
    },
    {
      "cell_type": "code",
      "source": [
        "import pandas as pd\n",
        "import numpy as np\n",
        "from sklearn.model_selection import train_test_split\n",
        "from sklearn.preprocessing import StandardScaler\n",
        "from sklearn.metrics import mean_squared_error\n",
        "from scipy import linalg\n",
        "import time\n",
        "import matplotlib.pyplot as plt"
      ],
      "metadata": {
        "id": "6DNEKOT6YGhG"
      },
      "execution_count": 22,
      "outputs": []
    },
    {
      "cell_type": "markdown",
      "metadata": {
        "id": "o4UwjkNZ3NGk"
      },
      "source": [
        "### Part 1 - Getting Started "
      ]
    },
    {
      "cell_type": "markdown",
      "metadata": {
        "id": "Y62qieYVbct2"
      },
      "source": [
        "The following dataset contains 13750 instances, where each instance is a set of 40 features describing the status of an airplane, the target column is the command issued by the pilot to control the plane."
      ]
    },
    {
      "cell_type": "code",
      "metadata": {
        "id": "wVI7N2nWbct3",
        "colab": {
          "base_uri": "https://localhost:8080/",
          "height": 73
        },
        "outputId": "10f193bb-fffd-43f0-fdf1-f20f1a22725d"
      },
      "source": [
        "# Load data\n",
        "from google.colab import files \n",
        "uploaded = files.upload()"
      ],
      "execution_count": 23,
      "outputs": [
        {
          "output_type": "display_data",
          "data": {
            "text/plain": [
              "<IPython.core.display.HTML object>"
            ],
            "text/html": [
              "\n",
              "     <input type=\"file\" id=\"files-bbb90633-b2ac-423e-9d77-3c1634ee3886\" name=\"files[]\" multiple disabled\n",
              "        style=\"border:none\" />\n",
              "     <output id=\"result-bbb90633-b2ac-423e-9d77-3c1634ee3886\">\n",
              "      Upload widget is only available when the cell has been executed in the\n",
              "      current browser session. Please rerun this cell to enable.\n",
              "      </output>\n",
              "      <script>// Copyright 2017 Google LLC\n",
              "//\n",
              "// Licensed under the Apache License, Version 2.0 (the \"License\");\n",
              "// you may not use this file except in compliance with the License.\n",
              "// You may obtain a copy of the License at\n",
              "//\n",
              "//      http://www.apache.org/licenses/LICENSE-2.0\n",
              "//\n",
              "// Unless required by applicable law or agreed to in writing, software\n",
              "// distributed under the License is distributed on an \"AS IS\" BASIS,\n",
              "// WITHOUT WARRANTIES OR CONDITIONS OF ANY KIND, either express or implied.\n",
              "// See the License for the specific language governing permissions and\n",
              "// limitations under the License.\n",
              "\n",
              "/**\n",
              " * @fileoverview Helpers for google.colab Python module.\n",
              " */\n",
              "(function(scope) {\n",
              "function span(text, styleAttributes = {}) {\n",
              "  const element = document.createElement('span');\n",
              "  element.textContent = text;\n",
              "  for (const key of Object.keys(styleAttributes)) {\n",
              "    element.style[key] = styleAttributes[key];\n",
              "  }\n",
              "  return element;\n",
              "}\n",
              "\n",
              "// Max number of bytes which will be uploaded at a time.\n",
              "const MAX_PAYLOAD_SIZE = 100 * 1024;\n",
              "\n",
              "function _uploadFiles(inputId, outputId) {\n",
              "  const steps = uploadFilesStep(inputId, outputId);\n",
              "  const outputElement = document.getElementById(outputId);\n",
              "  // Cache steps on the outputElement to make it available for the next call\n",
              "  // to uploadFilesContinue from Python.\n",
              "  outputElement.steps = steps;\n",
              "\n",
              "  return _uploadFilesContinue(outputId);\n",
              "}\n",
              "\n",
              "// This is roughly an async generator (not supported in the browser yet),\n",
              "// where there are multiple asynchronous steps and the Python side is going\n",
              "// to poll for completion of each step.\n",
              "// This uses a Promise to block the python side on completion of each step,\n",
              "// then passes the result of the previous step as the input to the next step.\n",
              "function _uploadFilesContinue(outputId) {\n",
              "  const outputElement = document.getElementById(outputId);\n",
              "  const steps = outputElement.steps;\n",
              "\n",
              "  const next = steps.next(outputElement.lastPromiseValue);\n",
              "  return Promise.resolve(next.value.promise).then((value) => {\n",
              "    // Cache the last promise value to make it available to the next\n",
              "    // step of the generator.\n",
              "    outputElement.lastPromiseValue = value;\n",
              "    return next.value.response;\n",
              "  });\n",
              "}\n",
              "\n",
              "/**\n",
              " * Generator function which is called between each async step of the upload\n",
              " * process.\n",
              " * @param {string} inputId Element ID of the input file picker element.\n",
              " * @param {string} outputId Element ID of the output display.\n",
              " * @return {!Iterable<!Object>} Iterable of next steps.\n",
              " */\n",
              "function* uploadFilesStep(inputId, outputId) {\n",
              "  const inputElement = document.getElementById(inputId);\n",
              "  inputElement.disabled = false;\n",
              "\n",
              "  const outputElement = document.getElementById(outputId);\n",
              "  outputElement.innerHTML = '';\n",
              "\n",
              "  const pickedPromise = new Promise((resolve) => {\n",
              "    inputElement.addEventListener('change', (e) => {\n",
              "      resolve(e.target.files);\n",
              "    });\n",
              "  });\n",
              "\n",
              "  const cancel = document.createElement('button');\n",
              "  inputElement.parentElement.appendChild(cancel);\n",
              "  cancel.textContent = 'Cancel upload';\n",
              "  const cancelPromise = new Promise((resolve) => {\n",
              "    cancel.onclick = () => {\n",
              "      resolve(null);\n",
              "    };\n",
              "  });\n",
              "\n",
              "  // Wait for the user to pick the files.\n",
              "  const files = yield {\n",
              "    promise: Promise.race([pickedPromise, cancelPromise]),\n",
              "    response: {\n",
              "      action: 'starting',\n",
              "    }\n",
              "  };\n",
              "\n",
              "  cancel.remove();\n",
              "\n",
              "  // Disable the input element since further picks are not allowed.\n",
              "  inputElement.disabled = true;\n",
              "\n",
              "  if (!files) {\n",
              "    return {\n",
              "      response: {\n",
              "        action: 'complete',\n",
              "      }\n",
              "    };\n",
              "  }\n",
              "\n",
              "  for (const file of files) {\n",
              "    const li = document.createElement('li');\n",
              "    li.append(span(file.name, {fontWeight: 'bold'}));\n",
              "    li.append(span(\n",
              "        `(${file.type || 'n/a'}) - ${file.size} bytes, ` +\n",
              "        `last modified: ${\n",
              "            file.lastModifiedDate ? file.lastModifiedDate.toLocaleDateString() :\n",
              "                                    'n/a'} - `));\n",
              "    const percent = span('0% done');\n",
              "    li.appendChild(percent);\n",
              "\n",
              "    outputElement.appendChild(li);\n",
              "\n",
              "    const fileDataPromise = new Promise((resolve) => {\n",
              "      const reader = new FileReader();\n",
              "      reader.onload = (e) => {\n",
              "        resolve(e.target.result);\n",
              "      };\n",
              "      reader.readAsArrayBuffer(file);\n",
              "    });\n",
              "    // Wait for the data to be ready.\n",
              "    let fileData = yield {\n",
              "      promise: fileDataPromise,\n",
              "      response: {\n",
              "        action: 'continue',\n",
              "      }\n",
              "    };\n",
              "\n",
              "    // Use a chunked sending to avoid message size limits. See b/62115660.\n",
              "    let position = 0;\n",
              "    do {\n",
              "      const length = Math.min(fileData.byteLength - position, MAX_PAYLOAD_SIZE);\n",
              "      const chunk = new Uint8Array(fileData, position, length);\n",
              "      position += length;\n",
              "\n",
              "      const base64 = btoa(String.fromCharCode.apply(null, chunk));\n",
              "      yield {\n",
              "        response: {\n",
              "          action: 'append',\n",
              "          file: file.name,\n",
              "          data: base64,\n",
              "        },\n",
              "      };\n",
              "\n",
              "      let percentDone = fileData.byteLength === 0 ?\n",
              "          100 :\n",
              "          Math.round((position / fileData.byteLength) * 100);\n",
              "      percent.textContent = `${percentDone}% done`;\n",
              "\n",
              "    } while (position < fileData.byteLength);\n",
              "  }\n",
              "\n",
              "  // All done.\n",
              "  yield {\n",
              "    response: {\n",
              "      action: 'complete',\n",
              "    }\n",
              "  };\n",
              "}\n",
              "\n",
              "scope.google = scope.google || {};\n",
              "scope.google.colab = scope.google.colab || {};\n",
              "scope.google.colab._files = {\n",
              "  _uploadFiles,\n",
              "  _uploadFilesContinue,\n",
              "};\n",
              "})(self);\n",
              "</script> "
            ]
          },
          "metadata": {}
        },
        {
          "output_type": "stream",
          "name": "stdout",
          "text": [
            "Saving regression_data.csv to regression_data (2).csv\n"
          ]
        }
      ]
    },
    {
      "cell_type": "markdown",
      "metadata": {
        "id": "MKRMb9Ju3NGl"
      },
      "source": [
        "Here are the steps to complete this portion:\n",
        "\n",
        "1. Print the dataframe.\n",
        "2. Prepare your dataset as follows: \n",
        "  *   Using `train_test_split` from Sklearn, split the dataset into training and test sets.\n",
        "  *   Standardize the data using `StandardScaler` from sklearn. \n",
        "  *   Insert the first column of all $1$s in the training and test set.\n",
        " "
      ]
    },
    {
      "cell_type": "code",
      "metadata": {
        "id": "barDBI-f5Q9s",
        "colab": {
          "base_uri": "https://localhost:8080/",
          "height": 317
        },
        "outputId": "de624d10-5eb1-4ba5-be53-5fa02c73cd88"
      },
      "source": [
        "#1 Print DataFrame\n",
        "df = pd.read_csv(\"regression_data.csv\", index_col=0)\n",
        "df.head()"
      ],
      "execution_count": 24,
      "outputs": [
        {
          "output_type": "execute_result",
          "data": {
            "text/plain": [
              "   inputs ClimbRate  Sgz     P     Q  CurPitch  CurRoll  AbsRoll  DiffClb  \\\n",
              "0               -17   -6 -0.03  0.14      0.59     -0.5      -11       -9   \n",
              "1              -791   15 -0.28 -0.34      1.11      0.9      -10       27   \n",
              "2               -46   48 -0.42  0.07      0.57      0.6       -5       -8   \n",
              "3               496   -5 -0.21 -0.04      0.03     -0.5       -7        6   \n",
              "4              -124   16 -0.02  0.05      0.61     -0.2       -9       -3   \n",
              "\n",
              "   DiffRollRate  DiffDiffClb  ...  DiffSeTime8  DiffSeTime9  DiffSeTime10  \\\n",
              "0         0.015         -0.2  ...          0.0          0.0           0.0   \n",
              "1        -0.002          4.7  ...          0.0          0.0           0.0   \n",
              "2        -0.008          0.0  ...          0.0          0.0           0.0   \n",
              "3        -0.002         -0.1  ...          0.0          0.0           0.0   \n",
              "4         0.000          0.0  ...          0.0          0.0           0.0   \n",
              "\n",
              "   DiffSeTime11  DiffSeTime12  DiffSeTime13  DiffSeTime14  Alpha     Se  \\\n",
              "0         0.000           0.0         0.000           0.0    0.6  0.021   \n",
              "1         0.000           0.0         0.000           0.0    0.4  0.013   \n",
              "2         0.000           0.0         0.000           0.0    0.5  0.019   \n",
              "3         0.001           0.0         0.001           0.0    0.5  0.017   \n",
              "4         0.000           0.0         0.000           0.0    0.5  0.018   \n",
              "\n",
              "     Goal  \n",
              "0 -0.0008  \n",
              "1 -0.0009  \n",
              "2 -0.0005  \n",
              "3 -0.0005  \n",
              "4 -0.0006  \n",
              "\n",
              "[5 rows x 41 columns]"
            ],
            "text/html": [
              "\n",
              "  <div id=\"df-984a128f-996c-4279-97ac-96976c5de585\">\n",
              "    <div class=\"colab-df-container\">\n",
              "      <div>\n",
              "<style scoped>\n",
              "    .dataframe tbody tr th:only-of-type {\n",
              "        vertical-align: middle;\n",
              "    }\n",
              "\n",
              "    .dataframe tbody tr th {\n",
              "        vertical-align: top;\n",
              "    }\n",
              "\n",
              "    .dataframe thead th {\n",
              "        text-align: right;\n",
              "    }\n",
              "</style>\n",
              "<table border=\"1\" class=\"dataframe\">\n",
              "  <thead>\n",
              "    <tr style=\"text-align: right;\">\n",
              "      <th></th>\n",
              "      <th>inputs ClimbRate</th>\n",
              "      <th>Sgz</th>\n",
              "      <th>P</th>\n",
              "      <th>Q</th>\n",
              "      <th>CurPitch</th>\n",
              "      <th>CurRoll</th>\n",
              "      <th>AbsRoll</th>\n",
              "      <th>DiffClb</th>\n",
              "      <th>DiffRollRate</th>\n",
              "      <th>DiffDiffClb</th>\n",
              "      <th>...</th>\n",
              "      <th>DiffSeTime8</th>\n",
              "      <th>DiffSeTime9</th>\n",
              "      <th>DiffSeTime10</th>\n",
              "      <th>DiffSeTime11</th>\n",
              "      <th>DiffSeTime12</th>\n",
              "      <th>DiffSeTime13</th>\n",
              "      <th>DiffSeTime14</th>\n",
              "      <th>Alpha</th>\n",
              "      <th>Se</th>\n",
              "      <th>Goal</th>\n",
              "    </tr>\n",
              "  </thead>\n",
              "  <tbody>\n",
              "    <tr>\n",
              "      <th>0</th>\n",
              "      <td>-17</td>\n",
              "      <td>-6</td>\n",
              "      <td>-0.03</td>\n",
              "      <td>0.14</td>\n",
              "      <td>0.59</td>\n",
              "      <td>-0.5</td>\n",
              "      <td>-11</td>\n",
              "      <td>-9</td>\n",
              "      <td>0.015</td>\n",
              "      <td>-0.2</td>\n",
              "      <td>...</td>\n",
              "      <td>0.0</td>\n",
              "      <td>0.0</td>\n",
              "      <td>0.0</td>\n",
              "      <td>0.000</td>\n",
              "      <td>0.0</td>\n",
              "      <td>0.000</td>\n",
              "      <td>0.0</td>\n",
              "      <td>0.6</td>\n",
              "      <td>0.021</td>\n",
              "      <td>-0.0008</td>\n",
              "    </tr>\n",
              "    <tr>\n",
              "      <th>1</th>\n",
              "      <td>-791</td>\n",
              "      <td>15</td>\n",
              "      <td>-0.28</td>\n",
              "      <td>-0.34</td>\n",
              "      <td>1.11</td>\n",
              "      <td>0.9</td>\n",
              "      <td>-10</td>\n",
              "      <td>27</td>\n",
              "      <td>-0.002</td>\n",
              "      <td>4.7</td>\n",
              "      <td>...</td>\n",
              "      <td>0.0</td>\n",
              "      <td>0.0</td>\n",
              "      <td>0.0</td>\n",
              "      <td>0.000</td>\n",
              "      <td>0.0</td>\n",
              "      <td>0.000</td>\n",
              "      <td>0.0</td>\n",
              "      <td>0.4</td>\n",
              "      <td>0.013</td>\n",
              "      <td>-0.0009</td>\n",
              "    </tr>\n",
              "    <tr>\n",
              "      <th>2</th>\n",
              "      <td>-46</td>\n",
              "      <td>48</td>\n",
              "      <td>-0.42</td>\n",
              "      <td>0.07</td>\n",
              "      <td>0.57</td>\n",
              "      <td>0.6</td>\n",
              "      <td>-5</td>\n",
              "      <td>-8</td>\n",
              "      <td>-0.008</td>\n",
              "      <td>0.0</td>\n",
              "      <td>...</td>\n",
              "      <td>0.0</td>\n",
              "      <td>0.0</td>\n",
              "      <td>0.0</td>\n",
              "      <td>0.000</td>\n",
              "      <td>0.0</td>\n",
              "      <td>0.000</td>\n",
              "      <td>0.0</td>\n",
              "      <td>0.5</td>\n",
              "      <td>0.019</td>\n",
              "      <td>-0.0005</td>\n",
              "    </tr>\n",
              "    <tr>\n",
              "      <th>3</th>\n",
              "      <td>496</td>\n",
              "      <td>-5</td>\n",
              "      <td>-0.21</td>\n",
              "      <td>-0.04</td>\n",
              "      <td>0.03</td>\n",
              "      <td>-0.5</td>\n",
              "      <td>-7</td>\n",
              "      <td>6</td>\n",
              "      <td>-0.002</td>\n",
              "      <td>-0.1</td>\n",
              "      <td>...</td>\n",
              "      <td>0.0</td>\n",
              "      <td>0.0</td>\n",
              "      <td>0.0</td>\n",
              "      <td>0.001</td>\n",
              "      <td>0.0</td>\n",
              "      <td>0.001</td>\n",
              "      <td>0.0</td>\n",
              "      <td>0.5</td>\n",
              "      <td>0.017</td>\n",
              "      <td>-0.0005</td>\n",
              "    </tr>\n",
              "    <tr>\n",
              "      <th>4</th>\n",
              "      <td>-124</td>\n",
              "      <td>16</td>\n",
              "      <td>-0.02</td>\n",
              "      <td>0.05</td>\n",
              "      <td>0.61</td>\n",
              "      <td>-0.2</td>\n",
              "      <td>-9</td>\n",
              "      <td>-3</td>\n",
              "      <td>0.000</td>\n",
              "      <td>0.0</td>\n",
              "      <td>...</td>\n",
              "      <td>0.0</td>\n",
              "      <td>0.0</td>\n",
              "      <td>0.0</td>\n",
              "      <td>0.000</td>\n",
              "      <td>0.0</td>\n",
              "      <td>0.000</td>\n",
              "      <td>0.0</td>\n",
              "      <td>0.5</td>\n",
              "      <td>0.018</td>\n",
              "      <td>-0.0006</td>\n",
              "    </tr>\n",
              "  </tbody>\n",
              "</table>\n",
              "<p>5 rows × 41 columns</p>\n",
              "</div>\n",
              "      <button class=\"colab-df-convert\" onclick=\"convertToInteractive('df-984a128f-996c-4279-97ac-96976c5de585')\"\n",
              "              title=\"Convert this dataframe to an interactive table.\"\n",
              "              style=\"display:none;\">\n",
              "        \n",
              "  <svg xmlns=\"http://www.w3.org/2000/svg\" height=\"24px\"viewBox=\"0 0 24 24\"\n",
              "       width=\"24px\">\n",
              "    <path d=\"M0 0h24v24H0V0z\" fill=\"none\"/>\n",
              "    <path d=\"M18.56 5.44l.94 2.06.94-2.06 2.06-.94-2.06-.94-.94-2.06-.94 2.06-2.06.94zm-11 1L8.5 8.5l.94-2.06 2.06-.94-2.06-.94L8.5 2.5l-.94 2.06-2.06.94zm10 10l.94 2.06.94-2.06 2.06-.94-2.06-.94-.94-2.06-.94 2.06-2.06.94z\"/><path d=\"M17.41 7.96l-1.37-1.37c-.4-.4-.92-.59-1.43-.59-.52 0-1.04.2-1.43.59L10.3 9.45l-7.72 7.72c-.78.78-.78 2.05 0 2.83L4 21.41c.39.39.9.59 1.41.59.51 0 1.02-.2 1.41-.59l7.78-7.78 2.81-2.81c.8-.78.8-2.07 0-2.86zM5.41 20L4 18.59l7.72-7.72 1.47 1.35L5.41 20z\"/>\n",
              "  </svg>\n",
              "      </button>\n",
              "      \n",
              "  <style>\n",
              "    .colab-df-container {\n",
              "      display:flex;\n",
              "      flex-wrap:wrap;\n",
              "      gap: 12px;\n",
              "    }\n",
              "\n",
              "    .colab-df-convert {\n",
              "      background-color: #E8F0FE;\n",
              "      border: none;\n",
              "      border-radius: 50%;\n",
              "      cursor: pointer;\n",
              "      display: none;\n",
              "      fill: #1967D2;\n",
              "      height: 32px;\n",
              "      padding: 0 0 0 0;\n",
              "      width: 32px;\n",
              "    }\n",
              "\n",
              "    .colab-df-convert:hover {\n",
              "      background-color: #E2EBFA;\n",
              "      box-shadow: 0px 1px 2px rgba(60, 64, 67, 0.3), 0px 1px 3px 1px rgba(60, 64, 67, 0.15);\n",
              "      fill: #174EA6;\n",
              "    }\n",
              "\n",
              "    [theme=dark] .colab-df-convert {\n",
              "      background-color: #3B4455;\n",
              "      fill: #D2E3FC;\n",
              "    }\n",
              "\n",
              "    [theme=dark] .colab-df-convert:hover {\n",
              "      background-color: #434B5C;\n",
              "      box-shadow: 0px 1px 3px 1px rgba(0, 0, 0, 0.15);\n",
              "      filter: drop-shadow(0px 1px 2px rgba(0, 0, 0, 0.3));\n",
              "      fill: #FFFFFF;\n",
              "    }\n",
              "  </style>\n",
              "\n",
              "      <script>\n",
              "        const buttonEl =\n",
              "          document.querySelector('#df-984a128f-996c-4279-97ac-96976c5de585 button.colab-df-convert');\n",
              "        buttonEl.style.display =\n",
              "          google.colab.kernel.accessAllowed ? 'block' : 'none';\n",
              "\n",
              "        async function convertToInteractive(key) {\n",
              "          const element = document.querySelector('#df-984a128f-996c-4279-97ac-96976c5de585');\n",
              "          const dataTable =\n",
              "            await google.colab.kernel.invokeFunction('convertToInteractive',\n",
              "                                                     [key], {});\n",
              "          if (!dataTable) return;\n",
              "\n",
              "          const docLinkHtml = 'Like what you see? Visit the ' +\n",
              "            '<a target=\"_blank\" href=https://colab.research.google.com/notebooks/data_table.ipynb>data table notebook</a>'\n",
              "            + ' to learn more about interactive tables.';\n",
              "          element.innerHTML = '';\n",
              "          dataTable['output_type'] = 'display_data';\n",
              "          await google.colab.output.renderOutput(dataTable, element);\n",
              "          const docLink = document.createElement('div');\n",
              "          docLink.innerHTML = docLinkHtml;\n",
              "          element.appendChild(docLink);\n",
              "        }\n",
              "      </script>\n",
              "    </div>\n",
              "  </div>\n",
              "  "
            ]
          },
          "metadata": {},
          "execution_count": 24
        }
      ]
    },
    {
      "cell_type": "code",
      "source": [
        "#2 Split df into train_valid_test set\n",
        "X = df.iloc[:,:-1]       # Feature data\n",
        "y = df.iloc[:,-1]        # Target data\n",
        "X_train, X_test, y_train, y_test = train_test_split(X, y, test_size=0.33, random_state = 1)"
      ],
      "metadata": {
        "id": "iKC431OOCANw"
      },
      "execution_count": 25,
      "outputs": []
    },
    {
      "cell_type": "code",
      "source": [
        "print(f\"X_train shape: {X_train.shape}\")\n",
        "print(f\"y_train shape: {y_train.shape}\")\n",
        "print(f\"X_test shape:  {X_test.shape}\")\n",
        "print(f\"y_test shape:  {y_test.shape}\")"
      ],
      "metadata": {
        "id": "yQY4fg3kD-YK",
        "colab": {
          "base_uri": "https://localhost:8080/"
        },
        "outputId": "6933bc86-3ef1-4162-8c31-717ce8d32f99"
      },
      "execution_count": 26,
      "outputs": [
        {
          "output_type": "stream",
          "name": "stdout",
          "text": [
            "X_train shape: (9212, 40)\n",
            "y_train shape: (9212,)\n",
            "X_test shape:  (4538, 40)\n",
            "y_test shape:  (4538,)\n"
          ]
        }
      ]
    },
    {
      "cell_type": "code",
      "source": [
        "# Standardizing the dataset\n",
        "scaler = StandardScaler()\n",
        "scaler.fit(X_train) \n",
        "X_train_scaled = scaler.transform(X_train)\n",
        "X_test_scaled  = scaler.transform(X_test)"
      ],
      "metadata": {
        "id": "vJBJefWlatkL"
      },
      "execution_count": 27,
      "outputs": []
    },
    {
      "cell_type": "code",
      "source": [
        "# Inserting a column of 1 in the dataset\n",
        "one_train = np.ones(X_train_scaled.shape[0]).reshape(-1, 1)\n",
        "one_test = np.ones(X_test_scaled.shape[0]).reshape(-1, 1)\n",
        "X_train_scaled_1f = np.hstack((one_train, X_train_scaled))\n",
        "X_test_scaled_1f = np.hstack((one_test, X_test_scaled))"
      ],
      "metadata": {
        "id": "6H5HnvJcJx8Y"
      },
      "execution_count": 28,
      "outputs": []
    },
    {
      "cell_type": "markdown",
      "metadata": {
        "id": "EQ6KBnbpbcuE"
      },
      "source": [
        "## Part 2 - Linear Regression Using Direct Solution "
      ]
    },
    {
      "cell_type": "markdown",
      "metadata": {
        "id": "qh9g1ead3NG-"
      },
      "source": [
        "Implement the direct solution of the linear regression problem on the training set following the formular;\n",
        "\n",
        "\n",
        "*   $y = wX + b = Xw$ (b is included in the X matrix)\n",
        "*   $w = (X^TX)^{-1}X^Tt$\n",
        "\n",
        "**NB:** You should use **``scipy.linalg.inv``** to perform the matrix inversion, as ``numpy.linalg.inv`` may cause numerical issues.\n",
        "\n",
        "Report the root-mean-square error (RMSE) for both the training and validation sets."
      ]
    },
    {
      "cell_type": "code",
      "metadata": {
        "id": "FzLJgLvy5Re4"
      },
      "source": [
        "# Target array\n",
        "y_train_array = y_train.values.reshape(-1, 1)\n",
        "y_test_array = y_test.values.reshape(-1, 1)"
      ],
      "execution_count": 29,
      "outputs": []
    },
    {
      "cell_type": "code",
      "source": [
        "# Defining the error function\n",
        "def rmse(yPred, y):\n",
        "    return np.sqrt(mean_squared_error(yPred, y))"
      ],
      "metadata": {
        "id": "l2CJ5i5uX02G"
      },
      "execution_count": 30,
      "outputs": []
    },
    {
      "cell_type": "code",
      "source": [
        "# Implementation of direct solution\n",
        "W = np.dot(linalg.inv(np.dot(X_train_scaled_1f.T, X_train_scaled_1f)), np.dot(X_train_scaled_1f.T, y_train_array)) # direct sol to obtain model weights\n",
        "yPred_train = np.dot(X_train_scaled_1f, W) # prediction on the training set\n",
        "yPred_test = np.dot(X_test_scaled_1f, W) # prediction on the validation set\n",
        "RMSE_train_direct = rmse(yPred_train, y_train_array)             \n",
        "RMSE_test_direct = rmse(yPred_test, y_test_array)\n",
        "print (\"RMSE on training set: \" , RMSE_train_direct)\n",
        "print (\"RMSE on validation set: \" , RMSE_test_direct)"
      ],
      "metadata": {
        "colab": {
          "base_uri": "https://localhost:8080/"
        },
        "id": "6fz3AbkZYUmT",
        "outputId": "08ec73aa-a777-4f13-bf70-9b26fb7d28b6"
      },
      "execution_count": 31,
      "outputs": [
        {
          "output_type": "stream",
          "name": "stdout",
          "text": [
            "RMSE on training set:  0.0001765420991929862\n",
            "RMSE on validation set:  0.00017293788228844037\n"
          ]
        }
      ]
    },
    {
      "cell_type": "markdown",
      "metadata": {
        "id": "tceGCk1V3NG_"
      },
      "source": [
        "## Part 3 - Full Batch Gradient Descent"
      ]
    },
    {
      "cell_type": "markdown",
      "metadata": {
        "id": "v9DMAs3I3NHB"
      },
      "source": [
        "We will now implement a \"full batch\" gradient descent algorithm and record the training time for our model. Recall that weight update is obtained with the formular,\n",
        "\n",
        "$\\frac{{\\partial J}}{\\partial w}=\\frac{1}{N}[\\sum_{i=0}^Nx^{(i)}(y^{(i)}-t^{(i)})]$\n",
        "\n",
        "$w_{j+1}=w_j-\\alpha \\times \\frac{{\\partial J}}{\\partial w}$\n",
        "\n",
        "where $\\alpha$ is the learning rate and $\\frac{{\\partial J}}{\\partial w}$ is your gradient, computed on the entire data. \n",
        "\n",
        "Here are the steps for this part:\n",
        "\n",
        "* Implement gradient descent for linear regression using a fixed learning rate of $\\alpha= 0.01$, and iterate until your model's **validation** RMSE converges. \n",
        "\n",
        "  We consider the gradient descent as having converged when RMSE on the validation set using gradient descent satisfies:\n",
        "\n",
        "  $$ RMSE_\\text{GD} \\leq 1.001 \\times RMSE_\\text{Direct Solution}$$\n",
        "\n",
        "  where $RMSE_\\text{Direct Solution}$ is the RMSE on the test set using the direct solution that you calculated in the previous part. \n",
        "\n",
        "  We refer to the quantity $RMSE_\\text{Direct Solution}\\times 1.001$ as the convergence threshold (CT).\n",
        "\n",
        "*  Record the training time (from the first iteration until convergence) using the `time.time()` function. \n",
        "\n",
        "* Plot the training RMSE and the validation RMSE vs. epoch on the same figure.  \n",
        "\n",
        "* Comment on overfitting/underfitting by observing the training and validation RMSE \n",
        "\n",
        "**Hint**: Initialize your weights with small random numbers (<$0.001$)"
      ]
    },
    {
      "cell_type": "code",
      "metadata": {
        "id": "G3KOOJ8m5SAs",
        "colab": {
          "base_uri": "https://localhost:8080/",
          "height": 347
        },
        "outputId": "bdd465a2-d5b5-445b-d6ce-f104701d7c77"
      },
      "source": [
        "# Implement full-batch gradient descent\n",
        "np.random.seed(2)\n",
        "w_min = 0.001\n",
        "w = w_min * (np.random.random(X_train_scaled_1f.shape[1])).reshape(1,-1)     # Inital weights\n",
        "lr = 0.01                                                    \n",
        "CT = RMSE_test_direct * 1.001                                               # Convergence threshold\n",
        "rmse_test = 0.1 + CT                                                        # Intialize rmse_test above CT\n",
        "rmse_array_train = []\n",
        "rmse_array_test = []\n",
        "\n",
        "start_time = time.time()                                                     # Records current time\n",
        "while rmse_test > CT:\n",
        "  yPred_train = np.dot(X_train_scaled_1f, w.T)\n",
        "  rmse_train = rmse(yPred_train, y_train_array)\n",
        "  rmse_array_train.append(rmse_train)\n",
        "  gradient = (1/len(yPred_train) * np.dot(X_train_scaled_1f.T, yPred_train - y_train_array)).reshape(1,-1)\n",
        "  w = w - lr * gradient                                                      # Weight update\n",
        "  yPred_test = np.dot(X_test_scaled_1f, w.T)\n",
        "  rmse_test = rmse(yPred_test, y_test_array)\n",
        "  rmse_array_test.append(rmse_test)\n",
        "\n",
        "print(\"--- Total Training Time: %s (s) ---\" % (time.time() - start_time))\n",
        "print(f'Converged testation RMSE: {rmse_array_test[-1]}')\n",
        "print()\n",
        "plt.plot(rmse_array_train, label='Training')\n",
        "plt.plot(rmse_array_test, label='testation')\n",
        "plt.xlabel(\"Epoch\")\n",
        "plt.ylabel(\"RMSE\")\n",
        "plt.title(\"Training and testation RMSE vs Epoch for a full batch gradient descent\")\n",
        "plt.legend()\n",
        "plt.show()"
      ],
      "execution_count": 32,
      "outputs": [
        {
          "output_type": "stream",
          "name": "stdout",
          "text": [
            "--- Total Training Time: 11.328453302383423 (s) ---\n",
            "Converged testation RMSE: 0.00017311053194110708\n",
            "\n"
          ]
        },
        {
          "output_type": "display_data",
          "data": {
            "text/plain": [
              "<Figure size 432x288 with 1 Axes>"
            ],
            "image/png": "[encoded data removed]"
          },
          "metadata": {
            "needs_background": "light"
          }
        }
      ]
    },
    {
      "cell_type": "markdown",
      "source": [
        "The model is neither overfitted nor underfitted because at every epoch the RMSE for the training and validation set are very close"
      ],
      "metadata": {
        "id": "s9FuxyCoKBpW"
      }
    }
  ]
}